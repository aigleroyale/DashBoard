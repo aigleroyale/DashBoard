{
 "cells": [
  {
   "cell_type": "code",
   "execution_count": 5,
   "id": "a953d50d",
   "metadata": {},
   "outputs": [],
   "source": [
    "import warnings\n",
    "warnings.filterwarnings('ignore')\n",
    "\n",
    "from bs4 import BeautifulSoup\n",
    "import requests\n",
    "\n",
    "import pandas as pd\n",
    "\n",
    "import time"
   ]
  },
  {
   "cell_type": "code",
   "execution_count": 2,
   "id": "ab7c43d2",
   "metadata": {},
   "outputs": [],
   "source": [
    "liens = list()\n",
    "for i in range(1, 701):\n",
    "    url = \"https://www.linternaute.com/ville/index/villes?page={}\".format(i)\n",
    "    response = requests.get(url)\n",
    "    soup = BeautifulSoup(response.text, \"html.parser\")\n",
    "    mydivs = soup.find(\"ul\", {\"class\": \"list--2colcount list--bullet\"})\n",
    "    for i in mydivs.findAll('a'):\n",
    "        liens.append(i['href'])"
   ]
  },
  {
   "cell_type": "code",
   "execution_count": 325,
   "id": "8ccd8bed",
   "metadata": {},
   "outputs": [
    {
     "data": {
      "text/plain": [
       "'https://www.linternaute.com/ville/aast/ville-64001'"
      ]
     },
     "execution_count": 325,
     "metadata": {},
     "output_type": "execute_result"
    }
   ],
   "source": [
    "liens[0]"
   ]
  },
  {
   "cell_type": "code",
   "execution_count": 101,
   "id": "3891cf47",
   "metadata": {},
   "outputs": [],
   "source": [
    "cp = list()\n",
    "pop = list()\n",
    "label = list()\n",
    "sup = list()\n",
    "\n",
    "for i in liens:\n",
    "    response = requests.get(i)\n",
    "    soup = BeautifulSoup(response.text, \"html.parser\")\n",
    "    mydivs = soup.findAll(\"tbody\")\n",
    "        \n",
    "    cp.append(mydivs[0].text.split(\"\\n\"))\n",
    "    pop.append(mydivs[1].text.split(\"\\n\"))\n",
    "    label.append(mydivs[2].text.split(\"\\n\"))\n",
    "    sup.append(mydivs[3].text.split(\"\\n\"))"
   ]
  },
  {
   "cell_type": "code",
   "execution_count": 148,
   "id": "1ab6dcc0",
   "metadata": {},
   "outputs": [
    {
     "name": "stdout",
     "output_type": "stream",
     "text": [
      "34955\n",
      "34955\n",
      "34955\n",
      "34955\n"
     ]
    }
   ],
   "source": [
    "print(len(cp))\n",
    "print(len(pop))\n",
    "print(len(label))\n",
    "print(len(sup))"
   ]
  },
  {
   "cell_type": "code",
   "execution_count": 163,
   "id": "607edd35",
   "metadata": {},
   "outputs": [],
   "source": [
    "data = dict()\n",
    "for i in range(34955):\n",
    "    data[i] = cp[i] + pop[i] + label[i] + sup[i]"
   ]
  },
  {
   "cell_type": "code",
   "execution_count": 187,
   "id": "a71433ec",
   "metadata": {},
   "outputs": [],
   "source": [
    "longueur = [len(data[i]) for i in range(len(data))]"
   ]
  },
  {
   "cell_type": "code",
   "execution_count": 188,
   "id": "32dd9bcc",
   "metadata": {},
   "outputs": [],
   "source": [
    "import matplotlib.pyplot as plt"
   ]
  },
  {
   "cell_type": "code",
   "execution_count": 189,
   "id": "423f4a36",
   "metadata": {},
   "outputs": [
    {
     "data": {
      "text/plain": [
       "[<matplotlib.lines.Line2D at 0x1fdb80afeb0>]"
      ]
     },
     "execution_count": 189,
     "metadata": {},
     "output_type": "execute_result"
    },
    {
     "data": {
      "image/png": "[encoded data removed]",
      "text/plain": [
       "<Figure size 640x480 with 1 Axes>"
      ]
     },
     "metadata": {},
     "output_type": "display_data"
    }
   ],
   "source": [
    "plt.plot(longueur)"
   ]
  },
  {
   "cell_type": "code",
   "execution_count": 208,
   "id": "f2421260",
   "metadata": {},
   "outputs": [],
   "source": [
    "uplen = [key for key in data if len(data[key]) > 93]"
   ]
  },
  {
   "cell_type": "code",
   "execution_count": 202,
   "id": "870d46a6",
   "metadata": {},
   "outputs": [],
   "source": [
    "data.get(\"0\")"
   ]
  },
  {
   "cell_type": "code",
   "execution_count": 209,
   "id": "e7b03381",
   "metadata": {},
   "outputs": [
    {
     "data": {
      "text/plain": [
       "[9610, 14054, 16975, 20901, 28818]"
      ]
     },
     "execution_count": 209,
     "metadata": {},
     "output_type": "execute_result"
    }
   ],
   "source": [
    "uplen"
   ]
  },
  {
   "cell_type": "code",
   "execution_count": 251,
   "id": "2999f1b4",
   "metadata": {},
   "outputs": [
    {
     "data": {
      "text/plain": [
       "['1\\xa0964 hab.',\n",
       " '',\n",
       " '',\n",
       " 'Population : rang national (2020)',\n",
       " 'n°26\\xa0663 ',\n",
       " '-',\n",
       " '',\n",
       " '',\n",
       " 'Densité de population (2020)',\n",
       " '40 hab/km²']"
      ]
     },
     "execution_count": 251,
     "metadata": {},
     "output_type": "execute_result"
    }
   ],
   "source": [
    "data[0][30:40]"
   ]
  },
  {
   "cell_type": "code",
   "execution_count": 253,
   "id": "128d579d",
   "metadata": {},
   "outputs": [
    {
     "data": {
      "text/plain": [
       "['1\\xa0964 hab.',\n",
       " '',\n",
       " '',\n",
       " 'Population : rang national (2020)',\n",
       " 'n°19\\xa0310 ',\n",
       " '-',\n",
       " '',\n",
       " '',\n",
       " 'Densité de population (2020)',\n",
       " '127 hab/km²']"
      ]
     },
     "execution_count": 253,
     "metadata": {},
     "output_type": "execute_result"
    }
   ],
   "source": [
    "data[9610][30:40]"
   ]
  },
  {
   "cell_type": "code",
   "execution_count": 243,
   "id": "7fea47f1",
   "metadata": {},
   "outputs": [],
   "source": [
    "del data[28818][25]"
   ]
  },
  {
   "cell_type": "code",
   "execution_count": 246,
   "id": "0492b75f",
   "metadata": {},
   "outputs": [],
   "source": [
    "del data[9610][25]\n",
    "del data[14054][25]\n",
    "del data[16975][25]\n",
    "del data[20901][25]"
   ]
  },
  {
   "cell_type": "code",
   "execution_count": 247,
   "id": "4a2bb7ca",
   "metadata": {},
   "outputs": [],
   "source": [
    "longueur = [len(data[i]) for i in range(len(data))]"
   ]
  },
  {
   "cell_type": "code",
   "execution_count": 248,
   "id": "f6fb3d47",
   "metadata": {},
   "outputs": [
    {
     "data": {
      "text/plain": [
       "[<matplotlib.lines.Line2D at 0x1fdcdb963e0>]"
      ]
     },
     "execution_count": 248,
     "metadata": {},
     "output_type": "execute_result"
    },
    {
     "data": {
      "image/png": "[encoded data removed]",
      "text/plain": [
       "<Figure size 640x480 with 1 Axes>"
      ]
     },
     "metadata": {},
     "output_type": "display_data"
    }
   ],
   "source": [
    "plt.plot(longueur)"
   ]
  },
  {
   "cell_type": "code",
   "execution_count": 256,
   "id": "5eb08b21",
   "metadata": {},
   "outputs": [],
   "source": [
    "df = pd.DataFrame(data)"
   ]
  },
  {
   "cell_type": "code",
   "execution_count": 259,
   "id": "89f62fba",
   "metadata": {},
   "outputs": [],
   "source": [
    "df = df.T"
   ]
  },
  {
   "cell_type": "code",
   "execution_count": 308,
   "id": "ee24c4ce",
   "metadata": {},
   "outputs": [
    {
     "data": {
      "text/html": [
       "<div>\n",
       "<style scoped>\n",
       "    .dataframe tbody tr th:only-of-type {\n",
       "        vertical-align: middle;\n",
       "    }\n",
       "\n",
       "    .dataframe tbody tr th {\n",
       "        vertical-align: top;\n",
       "    }\n",
       "\n",
       "    .dataframe thead th {\n",
       "        text-align: right;\n",
       "    }\n",
       "</style>\n",
       "<table border=\"1\" class=\"dataframe\">\n",
       "  <thead>\n",
       "    <tr style=\"text-align: right;\">\n",
       "      <th></th>\n",
       "      <th>0</th>\n",
       "      <th>1</th>\n",
       "      <th>2</th>\n",
       "      <th>3</th>\n",
       "      <th>4</th>\n",
       "      <th>5</th>\n",
       "      <th>6</th>\n",
       "      <th>7</th>\n",
       "      <th>8</th>\n",
       "      <th>9</th>\n",
       "      <th>...</th>\n",
       "      <th>83</th>\n",
       "      <th>84</th>\n",
       "      <th>85</th>\n",
       "      <th>86</th>\n",
       "      <th>87</th>\n",
       "      <th>88</th>\n",
       "      <th>89</th>\n",
       "      <th>90</th>\n",
       "      <th>91</th>\n",
       "      <th>92</th>\n",
       "    </tr>\n",
       "  </thead>\n",
       "  <tbody>\n",
       "    <tr>\n",
       "      <th>0</th>\n",
       "      <td></td>\n",
       "      <td></td>\n",
       "      <td>Région</td>\n",
       "      <td>Nouvelle-Aquitaine</td>\n",
       "      <td></td>\n",
       "      <td></td>\n",
       "      <td>Département</td>\n",
       "      <td>Pyrénées-Atlantiques</td>\n",
       "      <td></td>\n",
       "      <td></td>\n",
       "      <td>...</td>\n",
       "      <td>Latitude</td>\n",
       "      <td>43,2909</td>\n",
       "      <td>-</td>\n",
       "      <td></td>\n",
       "      <td></td>\n",
       "      <td>Longitude</td>\n",
       "      <td>-0,081773</td>\n",
       "      <td>-</td>\n",
       "      <td></td>\n",
       "      <td></td>\n",
       "    </tr>\n",
       "    <tr>\n",
       "      <th>1</th>\n",
       "      <td></td>\n",
       "      <td></td>\n",
       "      <td>Région</td>\n",
       "      <td>Grand Est</td>\n",
       "      <td></td>\n",
       "      <td></td>\n",
       "      <td>Département</td>\n",
       "      <td>Meuse</td>\n",
       "      <td></td>\n",
       "      <td></td>\n",
       "      <td>...</td>\n",
       "      <td>Latitude</td>\n",
       "      <td>48,5327</td>\n",
       "      <td>-</td>\n",
       "      <td></td>\n",
       "      <td></td>\n",
       "      <td>Longitude</td>\n",
       "      <td>5,51525</td>\n",
       "      <td>-</td>\n",
       "      <td></td>\n",
       "      <td></td>\n",
       "    </tr>\n",
       "    <tr>\n",
       "      <th>2</th>\n",
       "      <td></td>\n",
       "      <td></td>\n",
       "      <td>Région</td>\n",
       "      <td>Hauts-de-France</td>\n",
       "      <td></td>\n",
       "      <td></td>\n",
       "      <td>Département</td>\n",
       "      <td>Nord</td>\n",
       "      <td></td>\n",
       "      <td></td>\n",
       "      <td>...</td>\n",
       "      <td>Latitude</td>\n",
       "      <td>50,2369</td>\n",
       "      <td>-</td>\n",
       "      <td></td>\n",
       "      <td></td>\n",
       "      <td>Longitude</td>\n",
       "      <td>3,20731</td>\n",
       "      <td>-</td>\n",
       "      <td></td>\n",
       "      <td></td>\n",
       "    </tr>\n",
       "    <tr>\n",
       "      <th>3</th>\n",
       "      <td></td>\n",
       "      <td></td>\n",
       "      <td>Région</td>\n",
       "      <td>Hauts-de-France</td>\n",
       "      <td></td>\n",
       "      <td></td>\n",
       "      <td>Département</td>\n",
       "      <td>Oise</td>\n",
       "      <td></td>\n",
       "      <td></td>\n",
       "      <td>...</td>\n",
       "      <td>Latitude</td>\n",
       "      <td>49,6931</td>\n",
       "      <td>-</td>\n",
       "      <td></td>\n",
       "      <td></td>\n",
       "      <td>Longitude</td>\n",
       "      <td>1,76924</td>\n",
       "      <td>-</td>\n",
       "      <td></td>\n",
       "      <td></td>\n",
       "    </tr>\n",
       "    <tr>\n",
       "      <th>4</th>\n",
       "      <td></td>\n",
       "      <td></td>\n",
       "      <td>Région</td>\n",
       "      <td>Grand Est</td>\n",
       "      <td></td>\n",
       "      <td></td>\n",
       "      <td>Département</td>\n",
       "      <td>Meurthe-et-Moselle</td>\n",
       "      <td></td>\n",
       "      <td></td>\n",
       "      <td>...</td>\n",
       "      <td>Latitude</td>\n",
       "      <td>48,8928</td>\n",
       "      <td>-</td>\n",
       "      <td></td>\n",
       "      <td></td>\n",
       "      <td>Longitude</td>\n",
       "      <td>6,2656</td>\n",
       "      <td>-</td>\n",
       "      <td></td>\n",
       "      <td></td>\n",
       "    </tr>\n",
       "  </tbody>\n",
       "</table>\n",
       "<p>5 rows × 93 columns</p>\n",
       "</div>"
      ],
      "text/plain": [
       "  0  1       2                   3  4  5            6                     7   \\\n",
       "0        Région  Nouvelle-Aquitaine        Département  Pyrénées-Atlantiques   \n",
       "1        Région           Grand Est        Département                 Meuse   \n",
       "2        Région     Hauts-de-France        Département                  Nord   \n",
       "3        Région     Hauts-de-France        Département                  Oise   \n",
       "4        Région           Grand Est        Département    Meurthe-et-Moselle   \n",
       "\n",
       "  8  9   ...        83       84 85 86 87         88         89 90 91 92  \n",
       "0        ...  Latitude  43,2909  -        Longitude  -0,081773  -        \n",
       "1        ...  Latitude  48,5327  -        Longitude    5,51525  -        \n",
       "2        ...  Latitude  50,2369  -        Longitude    3,20731  -        \n",
       "3        ...  Latitude  49,6931  -        Longitude    1,76924  -        \n",
       "4        ...  Latitude  48,8928  -        Longitude     6,2656  -        \n",
       "\n",
       "[5 rows x 93 columns]"
      ]
     },
     "execution_count": 308,
     "metadata": {},
     "output_type": "execute_result"
    }
   ],
   "source": [
    "df.head()"
   ]
  },
  {
   "cell_type": "code",
   "execution_count": 272,
   "id": "a7b59e62",
   "metadata": {},
   "outputs": [
    {
     "data": {
      "text/plain": [
       "['',\n",
       " '',\n",
       " 'Région',\n",
       " 'Nouvelle-Aquitaine',\n",
       " '',\n",
       " '',\n",
       " 'Département',\n",
       " 'Pyrénées-Atlantiques',\n",
       " '',\n",
       " '',\n",
       " 'Etablissement public de coopération intercommunale (EPCI)',\n",
       " 'Communauté de communes du Nord Est Béarn',\n",
       " '',\n",
       " '',\n",
       " 'Code postal (CP)',\n",
       " '64460',\n",
       " '',\n",
       " '',\n",
       " 'Code Insee',\n",
       " '64001',\n",
       " '',\n",
       " '',\n",
       " \"Nom des habitants d'Aast (gentilé)\",\n",
       " 'Aastois, Aastoises',\n",
       " '',\n",
       " '',\n",
       " '',\n",
       " '',\n",
       " 'Population (2020)',\n",
       " '188 hab.',\n",
       " '1\\xa0964 hab.',\n",
       " '',\n",
       " '',\n",
       " 'Population : rang national (2020)',\n",
       " 'n°26\\xa0663 ',\n",
       " '-',\n",
       " '',\n",
       " '',\n",
       " 'Densité de population (2020)',\n",
       " '40 hab/km²',\n",
       " '170 hab/km²',\n",
       " '',\n",
       " '',\n",
       " 'Taux de chômage (2019)',\n",
       " '5,8 %',\n",
       " '10,6 %',\n",
       " '',\n",
       " '',\n",
       " '',\n",
       " '',\n",
       " 'Pavillon bleu',\n",
       " 'non',\n",
       " '',\n",
       " '',\n",
       " \"Ville d'art et d'histoire\",\n",
       " 'non',\n",
       " '',\n",
       " '',\n",
       " 'Ville fleurie',\n",
       " 'Aucune fleur',\n",
       " '',\n",
       " '',\n",
       " 'Ville internet',\n",
       " 'Aucune arobase',\n",
       " '',\n",
       " '',\n",
       " '',\n",
       " '',\n",
       " 'Superficie (surface)',\n",
       " '4,8 km²',\n",
       " '17,5 km²',\n",
       " '',\n",
       " '',\n",
       " 'Altitude min.',\n",
       " '367 mètre(s)',\n",
       " '193 mètres',\n",
       " '',\n",
       " '',\n",
       " 'Altitude max.',\n",
       " '393 mètre(s)',\n",
       " '395 mètres',\n",
       " '',\n",
       " '',\n",
       " 'Latitude',\n",
       " '43,2909',\n",
       " '-',\n",
       " '',\n",
       " '',\n",
       " 'Longitude',\n",
       " '-0,081773',\n",
       " '-',\n",
       " '',\n",
       " '']"
      ]
     },
     "execution_count": 272,
     "metadata": {},
     "output_type": "execute_result"
    }
   ],
   "source": [
    "data[0]"
   ]
  },
  {
   "cell_type": "code",
   "execution_count": 287,
   "id": "c965cc2d",
   "metadata": {},
   "outputs": [],
   "source": [
    "vides = [i for i, val in enumerate(data[0]) if val=='']"
   ]
  },
  {
   "cell_type": "code",
   "execution_count": 313,
   "id": "d51ff977",
   "metadata": {},
   "outputs": [],
   "source": [
    "tiret = [i for i, val in enumerate(data[0]) if val=='-']"
   ]
  },
  {
   "cell_type": "code",
   "execution_count": 311,
   "id": "31e73c77",
   "metadata": {},
   "outputs": [],
   "source": [
    "df = df.drop(vides, axis = 1)"
   ]
  },
  {
   "cell_type": "code",
   "execution_count": 314,
   "id": "ca84f5c5",
   "metadata": {},
   "outputs": [],
   "source": [
    "df = df.drop(tiret, axis = 1)"
   ]
  },
  {
   "cell_type": "code",
   "execution_count": 324,
   "id": "2383dfed",
   "metadata": {},
   "outputs": [
    {
     "data": {
      "text/html": [
       "<div>\n",
       "<style scoped>\n",
       "    .dataframe tbody tr th:only-of-type {\n",
       "        vertical-align: middle;\n",
       "    }\n",
       "\n",
       "    .dataframe tbody tr th {\n",
       "        vertical-align: top;\n",
       "    }\n",
       "\n",
       "    .dataframe thead th {\n",
       "        text-align: right;\n",
       "    }\n",
       "</style>\n",
       "<table border=\"1\" class=\"dataframe\">\n",
       "  <thead>\n",
       "    <tr style=\"text-align: right;\">\n",
       "      <th></th>\n",
       "      <th>Région</th>\n",
       "      <th>Nouvelle-Aquitaine</th>\n",
       "      <th>Département</th>\n",
       "      <th>Pyrénées-Atlantiques</th>\n",
       "      <th>Etablissement public de coopération intercommunale (EPCI)</th>\n",
       "      <th>Communauté de communes du Nord Est Béarn</th>\n",
       "      <th>Code postal (CP)</th>\n",
       "      <th>64460</th>\n",
       "      <th>Code Insee</th>\n",
       "      <th>64001</th>\n",
       "      <th>...</th>\n",
       "      <th>Altitude min.</th>\n",
       "      <th>367 mètre(s)</th>\n",
       "      <th>193 mètres</th>\n",
       "      <th>Altitude max.</th>\n",
       "      <th>393 mètre(s)</th>\n",
       "      <th>395 mètres</th>\n",
       "      <th>Latitude</th>\n",
       "      <th>43,2909</th>\n",
       "      <th>Longitude</th>\n",
       "      <th>-0,081773</th>\n",
       "    </tr>\n",
       "  </thead>\n",
       "  <tbody>\n",
       "    <tr>\n",
       "      <th>0</th>\n",
       "      <td>Région</td>\n",
       "      <td>Nouvelle-Aquitaine</td>\n",
       "      <td>Département</td>\n",
       "      <td>Pyrénées-Atlantiques</td>\n",
       "      <td>Etablissement public de coopération intercommu...</td>\n",
       "      <td>Communauté de communes du Nord Est Béarn</td>\n",
       "      <td>Code postal (CP)</td>\n",
       "      <td>64460</td>\n",
       "      <td>Code Insee</td>\n",
       "      <td>64001</td>\n",
       "      <td>...</td>\n",
       "      <td>Altitude min.</td>\n",
       "      <td>367 mètre(s)</td>\n",
       "      <td>193 mètres</td>\n",
       "      <td>Altitude max.</td>\n",
       "      <td>393 mètre(s)</td>\n",
       "      <td>395 mètres</td>\n",
       "      <td>Latitude</td>\n",
       "      <td>43,2909</td>\n",
       "      <td>Longitude</td>\n",
       "      <td>-0,081773</td>\n",
       "    </tr>\n",
       "    <tr>\n",
       "      <th>1</th>\n",
       "      <td>Région</td>\n",
       "      <td>Grand Est</td>\n",
       "      <td>Département</td>\n",
       "      <td>Meuse</td>\n",
       "      <td>Etablissement public de coopération intercommu...</td>\n",
       "      <td>Communauté de communes Haute Saulx et Perthois...</td>\n",
       "      <td>Code postal (CP)</td>\n",
       "      <td>55130</td>\n",
       "      <td>Code Insee</td>\n",
       "      <td>55001</td>\n",
       "      <td>...</td>\n",
       "      <td>Altitude min.</td>\n",
       "      <td>282 mètre(s)</td>\n",
       "      <td>193 mètres</td>\n",
       "      <td>Altitude max.</td>\n",
       "      <td>388 mètre(s)</td>\n",
       "      <td>395 mètres</td>\n",
       "      <td>Latitude</td>\n",
       "      <td>48,5327</td>\n",
       "      <td>Longitude</td>\n",
       "      <td>5,51525</td>\n",
       "    </tr>\n",
       "    <tr>\n",
       "      <th>2</th>\n",
       "      <td>Région</td>\n",
       "      <td>Hauts-de-France</td>\n",
       "      <td>Département</td>\n",
       "      <td>Nord</td>\n",
       "      <td>Etablissement public de coopération intercommu...</td>\n",
       "      <td>Communauté d'agglomération de Cambrai</td>\n",
       "      <td>Code postal (CP)</td>\n",
       "      <td>59268</td>\n",
       "      <td>Code Insee</td>\n",
       "      <td>59001</td>\n",
       "      <td>...</td>\n",
       "      <td>Altitude min.</td>\n",
       "      <td>36 mètre(s)</td>\n",
       "      <td>193 mètres</td>\n",
       "      <td>Altitude max.</td>\n",
       "      <td>70 mètre(s)</td>\n",
       "      <td>395 mètres</td>\n",
       "      <td>Latitude</td>\n",
       "      <td>50,2369</td>\n",
       "      <td>Longitude</td>\n",
       "      <td>3,20731</td>\n",
       "    </tr>\n",
       "    <tr>\n",
       "      <th>3</th>\n",
       "      <td>Région</td>\n",
       "      <td>Hauts-de-France</td>\n",
       "      <td>Département</td>\n",
       "      <td>Oise</td>\n",
       "      <td>Etablissement public de coopération intercommu...</td>\n",
       "      <td>Communauté de communes de la Picardie Verte</td>\n",
       "      <td>Code postal (CP)</td>\n",
       "      <td>60220</td>\n",
       "      <td>Code Insee</td>\n",
       "      <td>60001</td>\n",
       "      <td>...</td>\n",
       "      <td>Altitude min.</td>\n",
       "      <td>170 mètre(s)</td>\n",
       "      <td>193 mètres</td>\n",
       "      <td>Altitude max.</td>\n",
       "      <td>222 mètre(s)</td>\n",
       "      <td>395 mètres</td>\n",
       "      <td>Latitude</td>\n",
       "      <td>49,6931</td>\n",
       "      <td>Longitude</td>\n",
       "      <td>1,76924</td>\n",
       "    </tr>\n",
       "    <tr>\n",
       "      <th>4</th>\n",
       "      <td>Région</td>\n",
       "      <td>Grand Est</td>\n",
       "      <td>Département</td>\n",
       "      <td>Meurthe-et-Moselle</td>\n",
       "      <td>Etablissement public de coopération intercommu...</td>\n",
       "      <td>Communauté de communes de Seille et Mauchère -...</td>\n",
       "      <td>Code postal (CP)</td>\n",
       "      <td>54610</td>\n",
       "      <td>Code Insee</td>\n",
       "      <td>54001</td>\n",
       "      <td>...</td>\n",
       "      <td>Altitude min.</td>\n",
       "      <td>182 mètre(s)</td>\n",
       "      <td>193 mètres</td>\n",
       "      <td>Altitude max.</td>\n",
       "      <td>235 mètre(s)</td>\n",
       "      <td>395 mètres</td>\n",
       "      <td>Latitude</td>\n",
       "      <td>48,8928</td>\n",
       "      <td>Longitude</td>\n",
       "      <td>6,2656</td>\n",
       "    </tr>\n",
       "  </tbody>\n",
       "</table>\n",
       "<p>5 rows × 44 columns</p>\n",
       "</div>"
      ],
      "text/plain": [
       "   Région  Nouvelle-Aquitaine  Département  Pyrénées-Atlantiques  \\\n",
       "0  Région  Nouvelle-Aquitaine  Département  Pyrénées-Atlantiques   \n",
       "1  Région           Grand Est  Département                 Meuse   \n",
       "2  Région     Hauts-de-France  Département                  Nord   \n",
       "3  Région     Hauts-de-France  Département                  Oise   \n",
       "4  Région           Grand Est  Département    Meurthe-et-Moselle   \n",
       "\n",
       "  Etablissement public de coopération intercommunale (EPCI)  \\\n",
       "0  Etablissement public de coopération intercommu...          \n",
       "1  Etablissement public de coopération intercommu...          \n",
       "2  Etablissement public de coopération intercommu...          \n",
       "3  Etablissement public de coopération intercommu...          \n",
       "4  Etablissement public de coopération intercommu...          \n",
       "\n",
       "            Communauté de communes du Nord Est Béarn  Code postal (CP)  64460  \\\n",
       "0           Communauté de communes du Nord Est Béarn  Code postal (CP)  64460   \n",
       "1  Communauté de communes Haute Saulx et Perthois...  Code postal (CP)  55130   \n",
       "2              Communauté d'agglomération de Cambrai  Code postal (CP)  59268   \n",
       "3        Communauté de communes de la Picardie Verte  Code postal (CP)  60220   \n",
       "4  Communauté de communes de Seille et Mauchère -...  Code postal (CP)  54610   \n",
       "\n",
       "   Code Insee  64001  ...  Altitude min.  367 mètre(s)  193 mètres  \\\n",
       "0  Code Insee  64001  ...  Altitude min.  367 mètre(s)  193 mètres   \n",
       "1  Code Insee  55001  ...  Altitude min.  282 mètre(s)  193 mètres   \n",
       "2  Code Insee  59001  ...  Altitude min.   36 mètre(s)  193 mètres   \n",
       "3  Code Insee  60001  ...  Altitude min.  170 mètre(s)  193 mètres   \n",
       "4  Code Insee  54001  ...  Altitude min.  182 mètre(s)  193 mètres   \n",
       "\n",
       "   Altitude max.  393 mètre(s)  395 mètres  Latitude  43,2909  Longitude  \\\n",
       "0  Altitude max.  393 mètre(s)  395 mètres  Latitude  43,2909  Longitude   \n",
       "1  Altitude max.  388 mètre(s)  395 mètres  Latitude  48,5327  Longitude   \n",
       "2  Altitude max.   70 mètre(s)  395 mètres  Latitude  50,2369  Longitude   \n",
       "3  Altitude max.  222 mètre(s)  395 mètres  Latitude  49,6931  Longitude   \n",
       "4  Altitude max.  235 mètre(s)  395 mètres  Latitude  48,8928  Longitude   \n",
       "\n",
       "   -0,081773  \n",
       "0  -0,081773  \n",
       "1    5,51525  \n",
       "2    3,20731  \n",
       "3    1,76924  \n",
       "4     6,2656  \n",
       "\n",
       "[5 rows x 44 columns]"
      ]
     },
     "execution_count": 324,
     "metadata": {},
     "output_type": "execute_result"
    }
   ],
   "source": [
    "df.head()"
   ]
  },
  {
   "cell_type": "code",
   "execution_count": 320,
   "id": "c8cac28c",
   "metadata": {},
   "outputs": [
    {
     "data": {
      "text/plain": [
       "array(['Région', 'Nouvelle-Aquitaine', 'Département',\n",
       "       'Pyrénées-Atlantiques',\n",
       "       'Etablissement public de coopération intercommunale (EPCI)',\n",
       "       'Communauté de communes du Nord Est Béarn', 'Code postal (CP)',\n",
       "       '64460', 'Code Insee', '64001',\n",
       "       \"Nom des habitants d'Aast (gentilé)\", 'Aastois, Aastoises',\n",
       "       'Population (2020)', '188 hab.', '1\\xa0964 hab.',\n",
       "       'Population : rang national (2020)', 'n°26\\xa0663 ',\n",
       "       'Densité de population (2020)', '40 hab/km²', '170 hab/km²',\n",
       "       'Taux de chômage (2019)', '5,8 %', '10,6 %', 'Pavillon bleu',\n",
       "       'non', \"Ville d'art et d'histoire\", 'non', 'Ville fleurie',\n",
       "       'Aucune fleur', 'Ville internet', 'Aucune arobase',\n",
       "       'Superficie (surface)', '4,8 km²', '17,5 km²', 'Altitude min.',\n",
       "       '367 mètre(s)', '193 mètres', 'Altitude max.', '393 mètre(s)',\n",
       "       '395 mètres', 'Latitude', '43,2909', 'Longitude', '-0,081773'],\n",
       "      dtype=object)"
      ]
     },
     "execution_count": 320,
     "metadata": {},
     "output_type": "execute_result"
    }
   ],
   "source": [
    "df.iloc[0].values"
   ]
  },
  {
   "cell_type": "code",
   "execution_count": 322,
   "id": "de0ab987",
   "metadata": {},
   "outputs": [],
   "source": [
    "df.columns = df.iloc[0].values"
   ]
  },
  {
   "cell_type": "code",
   "execution_count": 326,
   "id": "0c5d07b1",
   "metadata": {},
   "outputs": [],
   "source": [
    "columns_drop = ['Région', 'Département', 'Etablissement public de coopération intercommunale (EPCI)', 'Code postal (CP)', 'Code Insee',\n",
    "               \"Nom des habitants d'Aast (gentilé)\", \"Population (2020)\", \"Densité de population (2020)\", 'Taux de chômage (2019)',\n",
    "               'Pavillon bleu', \"Ville d'art et d'histoire\", \"Ville fleurie\", \"Ville internet\", \"Superficie (surface)\", \"Altitude min.\",\n",
    "               \"Altitude max.\", \"Latitude\", \"Longitude\"]"
   ]
  },
  {
   "cell_type": "code",
   "execution_count": 327,
   "id": "d42febd8",
   "metadata": {},
   "outputs": [],
   "source": [
    "df = df.drop(columns_drop, axis = 1)"
   ]
  },
  {
   "cell_type": "code",
   "execution_count": 328,
   "id": "e4f3f6fc",
   "metadata": {},
   "outputs": [
    {
     "data": {
      "text/html": [
       "<div>\n",
       "<style scoped>\n",
       "    .dataframe tbody tr th:only-of-type {\n",
       "        vertical-align: middle;\n",
       "    }\n",
       "\n",
       "    .dataframe tbody tr th {\n",
       "        vertical-align: top;\n",
       "    }\n",
       "\n",
       "    .dataframe thead th {\n",
       "        text-align: right;\n",
       "    }\n",
       "</style>\n",
       "<table border=\"1\" class=\"dataframe\">\n",
       "  <thead>\n",
       "    <tr style=\"text-align: right;\">\n",
       "      <th></th>\n",
       "      <th>Nouvelle-Aquitaine</th>\n",
       "      <th>Pyrénées-Atlantiques</th>\n",
       "      <th>Communauté de communes du Nord Est Béarn</th>\n",
       "      <th>64460</th>\n",
       "      <th>64001</th>\n",
       "      <th>Aastois, Aastoises</th>\n",
       "      <th>188 hab.</th>\n",
       "      <th>1 964 hab.</th>\n",
       "      <th>Population : rang national (2020)</th>\n",
       "      <th>n°26 663</th>\n",
       "      <th>...</th>\n",
       "      <th>Aucune fleur</th>\n",
       "      <th>Aucune arobase</th>\n",
       "      <th>4,8 km²</th>\n",
       "      <th>17,5 km²</th>\n",
       "      <th>367 mètre(s)</th>\n",
       "      <th>193 mètres</th>\n",
       "      <th>393 mètre(s)</th>\n",
       "      <th>395 mètres</th>\n",
       "      <th>43,2909</th>\n",
       "      <th>-0,081773</th>\n",
       "    </tr>\n",
       "  </thead>\n",
       "  <tbody>\n",
       "    <tr>\n",
       "      <th>0</th>\n",
       "      <td>Nouvelle-Aquitaine</td>\n",
       "      <td>Pyrénées-Atlantiques</td>\n",
       "      <td>Communauté de communes du Nord Est Béarn</td>\n",
       "      <td>64460</td>\n",
       "      <td>64001</td>\n",
       "      <td>Aastois, Aastoises</td>\n",
       "      <td>188 hab.</td>\n",
       "      <td>1 964 hab.</td>\n",
       "      <td>Population : rang national (2020)</td>\n",
       "      <td>n°26 663</td>\n",
       "      <td>...</td>\n",
       "      <td>Aucune fleur</td>\n",
       "      <td>Aucune arobase</td>\n",
       "      <td>4,8 km²</td>\n",
       "      <td>17,5 km²</td>\n",
       "      <td>367 mètre(s)</td>\n",
       "      <td>193 mètres</td>\n",
       "      <td>393 mètre(s)</td>\n",
       "      <td>395 mètres</td>\n",
       "      <td>43,2909</td>\n",
       "      <td>-0,081773</td>\n",
       "    </tr>\n",
       "    <tr>\n",
       "      <th>1</th>\n",
       "      <td>Grand Est</td>\n",
       "      <td>Meuse</td>\n",
       "      <td>Communauté de communes Haute Saulx et Perthois...</td>\n",
       "      <td>55130</td>\n",
       "      <td>55001</td>\n",
       "      <td>Abainvillois, Abainvilloises</td>\n",
       "      <td>285 hab.</td>\n",
       "      <td>1 964 hab.</td>\n",
       "      <td>Population : rang national (2020)</td>\n",
       "      <td>n°22 397</td>\n",
       "      <td>...</td>\n",
       "      <td>Aucune fleur</td>\n",
       "      <td>Aucune arobase</td>\n",
       "      <td>13,7 km²</td>\n",
       "      <td>17,5 km²</td>\n",
       "      <td>282 mètre(s)</td>\n",
       "      <td>193 mètres</td>\n",
       "      <td>388 mètre(s)</td>\n",
       "      <td>395 mètres</td>\n",
       "      <td>48,5327</td>\n",
       "      <td>5,51525</td>\n",
       "    </tr>\n",
       "    <tr>\n",
       "      <th>2</th>\n",
       "      <td>Hauts-de-France</td>\n",
       "      <td>Nord</td>\n",
       "      <td>Communauté d'agglomération de Cambrai</td>\n",
       "      <td>59268</td>\n",
       "      <td>59001</td>\n",
       "      <td>Abancourtois, Abancourtoises</td>\n",
       "      <td>468 hab.</td>\n",
       "      <td>1 964 hab.</td>\n",
       "      <td>Population : rang national (2020)</td>\n",
       "      <td>n°17 217</td>\n",
       "      <td>...</td>\n",
       "      <td>Aucune fleur</td>\n",
       "      <td>Aucune arobase</td>\n",
       "      <td>5,7 km²</td>\n",
       "      <td>17,5 km²</td>\n",
       "      <td>36 mètre(s)</td>\n",
       "      <td>193 mètres</td>\n",
       "      <td>70 mètre(s)</td>\n",
       "      <td>395 mètres</td>\n",
       "      <td>50,2369</td>\n",
       "      <td>3,20731</td>\n",
       "    </tr>\n",
       "    <tr>\n",
       "      <th>3</th>\n",
       "      <td>Hauts-de-France</td>\n",
       "      <td>Oise</td>\n",
       "      <td>Communauté de communes de la Picardie Verte</td>\n",
       "      <td>60220</td>\n",
       "      <td>60001</td>\n",
       "      <td>nc</td>\n",
       "      <td>606 hab.</td>\n",
       "      <td>1 964 hab.</td>\n",
       "      <td>Population : rang national (2020)</td>\n",
       "      <td>n°14 521</td>\n",
       "      <td>...</td>\n",
       "      <td>Aucune fleur</td>\n",
       "      <td>Aucune arobase</td>\n",
       "      <td>6,0 km²</td>\n",
       "      <td>17,5 km²</td>\n",
       "      <td>170 mètre(s)</td>\n",
       "      <td>193 mètres</td>\n",
       "      <td>222 mètre(s)</td>\n",
       "      <td>395 mètres</td>\n",
       "      <td>49,6931</td>\n",
       "      <td>1,76924</td>\n",
       "    </tr>\n",
       "    <tr>\n",
       "      <th>4</th>\n",
       "      <td>Grand Est</td>\n",
       "      <td>Meurthe-et-Moselle</td>\n",
       "      <td>Communauté de communes de Seille et Mauchère -...</td>\n",
       "      <td>54610</td>\n",
       "      <td>54001</td>\n",
       "      <td>Abaucourtois, Abaucourtoises</td>\n",
       "      <td>306 hab.</td>\n",
       "      <td>1 964 hab.</td>\n",
       "      <td>Population : rang national (2020)</td>\n",
       "      <td>n°21 651</td>\n",
       "      <td>...</td>\n",
       "      <td>Aucune fleur</td>\n",
       "      <td>Aucune arobase</td>\n",
       "      <td>7,8 km²</td>\n",
       "      <td>17,5 km²</td>\n",
       "      <td>182 mètre(s)</td>\n",
       "      <td>193 mètres</td>\n",
       "      <td>235 mètre(s)</td>\n",
       "      <td>395 mètres</td>\n",
       "      <td>48,8928</td>\n",
       "      <td>6,2656</td>\n",
       "    </tr>\n",
       "  </tbody>\n",
       "</table>\n",
       "<p>5 rows × 26 columns</p>\n",
       "</div>"
      ],
      "text/plain": [
       "   Nouvelle-Aquitaine  Pyrénées-Atlantiques  \\\n",
       "0  Nouvelle-Aquitaine  Pyrénées-Atlantiques   \n",
       "1           Grand Est                 Meuse   \n",
       "2     Hauts-de-France                  Nord   \n",
       "3     Hauts-de-France                  Oise   \n",
       "4           Grand Est    Meurthe-et-Moselle   \n",
       "\n",
       "            Communauté de communes du Nord Est Béarn  64460  64001  \\\n",
       "0           Communauté de communes du Nord Est Béarn  64460  64001   \n",
       "1  Communauté de communes Haute Saulx et Perthois...  55130  55001   \n",
       "2              Communauté d'agglomération de Cambrai  59268  59001   \n",
       "3        Communauté de communes de la Picardie Verte  60220  60001   \n",
       "4  Communauté de communes de Seille et Mauchère -...  54610  54001   \n",
       "\n",
       "             Aastois, Aastoises  188 hab.  1 964 hab.  \\\n",
       "0            Aastois, Aastoises  188 hab.  1 964 hab.   \n",
       "1  Abainvillois, Abainvilloises  285 hab.  1 964 hab.   \n",
       "2  Abancourtois, Abancourtoises  468 hab.  1 964 hab.   \n",
       "3                            nc  606 hab.  1 964 hab.   \n",
       "4  Abaucourtois, Abaucourtoises  306 hab.  1 964 hab.   \n",
       "\n",
       "   Population : rang national (2020)  n°26 663   ...  Aucune fleur  \\\n",
       "0  Population : rang national (2020)  n°26 663   ...  Aucune fleur   \n",
       "1  Population : rang national (2020)  n°22 397   ...  Aucune fleur   \n",
       "2  Population : rang national (2020)  n°17 217   ...  Aucune fleur   \n",
       "3  Population : rang national (2020)  n°14 521   ...  Aucune fleur   \n",
       "4  Population : rang national (2020)  n°21 651   ...  Aucune fleur   \n",
       "\n",
       "   Aucune arobase   4,8 km²  17,5 km²  367 mètre(s)  193 mètres  393 mètre(s)  \\\n",
       "0  Aucune arobase   4,8 km²  17,5 km²  367 mètre(s)  193 mètres  393 mètre(s)   \n",
       "1  Aucune arobase  13,7 km²  17,5 km²  282 mètre(s)  193 mètres  388 mètre(s)   \n",
       "2  Aucune arobase   5,7 km²  17,5 km²   36 mètre(s)  193 mètres   70 mètre(s)   \n",
       "3  Aucune arobase   6,0 km²  17,5 km²  170 mètre(s)  193 mètres  222 mètre(s)   \n",
       "4  Aucune arobase   7,8 km²  17,5 km²  182 mètre(s)  193 mètres  235 mètre(s)   \n",
       "\n",
       "   395 mètres  43,2909  -0,081773  \n",
       "0  395 mètres  43,2909  -0,081773  \n",
       "1  395 mètres  48,5327    5,51525  \n",
       "2  395 mètres  50,2369    3,20731  \n",
       "3  395 mètres  49,6931    1,76924  \n",
       "4  395 mètres  48,8928     6,2656  \n",
       "\n",
       "[5 rows x 26 columns]"
      ]
     },
     "execution_count": 328,
     "metadata": {},
     "output_type": "execute_result"
    }
   ],
   "source": [
    "df.head()"
   ]
  },
  {
   "cell_type": "code",
   "execution_count": 333,
   "id": "88f6779f",
   "metadata": {},
   "outputs": [
    {
     "data": {
      "text/plain": [
       "Index(['Nouvelle-Aquitaine', 'Pyrénées-Atlantiques',\n",
       "       'Communauté de communes du Nord Est Béarn', '64460', '64001',\n",
       "       'Aastois, Aastoises', '188 hab.', '1 964 hab.',\n",
       "       'Population : rang national (2020)', 'n°26 663 ', '40 hab/km²',\n",
       "       '170 hab/km²', '5,8 %', '10,6 %', 'non', 'non', 'Aucune fleur',\n",
       "       'Aucune arobase', '4,8 km²', '17,5 km²', '367 mètre(s)', '193 mètres',\n",
       "       '393 mètre(s)', '395 mètres', '43,2909', '-0,081773'],\n",
       "      dtype='object')"
      ]
     },
     "execution_count": 333,
     "metadata": {},
     "output_type": "execute_result"
    }
   ],
   "source": [
    "df.columns"
   ]
  },
  {
   "cell_type": "code",
   "execution_count": 352,
   "id": "0c14310d",
   "metadata": {},
   "outputs": [],
   "source": [
    "dic_columns = {\n",
    "    \"Nouvelle-Aquitaine\" : \"region\",\n",
    "    \"Pyrénées-Atlantiques'\" : \"departement\",\n",
    "    \"ommunauté de communes du Nord Est Béarn\" : \"epci\",\n",
    "    \"64460\" : \"code_p\",\n",
    "    \"64001\" : \"code_i\",\n",
    "    \"Aastois, Aastoises\" : \"nom_habit\",\n",
    "    \"188 hab.\" : \"population\",\n",
    "    \"1 964 hab.\" : \"pop_moy\",\n",
    "    \"Population : rang national (2020)\" : \"pop_rang_nat2020\",\n",
    "    \"n°26 663 \":\"pop_rang_nat\",\n",
    "    \"40 hab/km²\" : \"densite_pop\",\n",
    "    \"170 hab/km²\" : \"densite_pop_moy\",\n",
    "    \"5,8 %\" : \"taux_chomage\",\n",
    "    \"10,6 %\" : \"taux_chomage_moy\",\n",
    "    \"non\" : \"pavion_bleau\",\n",
    "    \"nosn\" : \"ville_d_art\",\n",
    "    \"Aucune fleur\" : \"ville_fleurie\",\n",
    "    \"Aucune arobase\" : \"ville_internet\",\n",
    "    \"4,8 km²\" : \"superficie\",\n",
    "    \"17,5 km²\" : \"superficie_moy\",\n",
    "    \"367 mètre(s)\" : \"altitude_min\",\n",
    "    \"193 mètres\" : \"altitude_min_moy\",\n",
    "    \"393 mètre(s)\" : \"altitude_max\",\n",
    "    \"395 mètre(s)\" : \"altitude_max_moy\",\n",
    "    \"43,2909\" : \"latitude\",\n",
    "    \"-0,081773\" : \"longitude\",\n",
    "}"
   ]
  },
  {
   "cell_type": "code",
   "execution_count": 353,
   "id": "ac814666",
   "metadata": {},
   "outputs": [],
   "source": [
    "new_l = list(dic_columns.values())"
   ]
  },
  {
   "cell_type": "code",
   "execution_count": 355,
   "id": "80c5024c",
   "metadata": {},
   "outputs": [
    {
     "data": {
      "text/plain": [
       "26"
      ]
     },
     "execution_count": 355,
     "metadata": {},
     "output_type": "execute_result"
    }
   ],
   "source": [
    "len(new_l)"
   ]
  },
  {
   "cell_type": "code",
   "execution_count": 356,
   "id": "124eb7a5",
   "metadata": {},
   "outputs": [],
   "source": [
    "df.columns = new_l"
   ]
  },
  {
   "cell_type": "code",
   "execution_count": 357,
   "id": "3ce35cb9",
   "metadata": {},
   "outputs": [
    {
     "data": {
      "text/html": [
       "<div>\n",
       "<style scoped>\n",
       "    .dataframe tbody tr th:only-of-type {\n",
       "        vertical-align: middle;\n",
       "    }\n",
       "\n",
       "    .dataframe tbody tr th {\n",
       "        vertical-align: top;\n",
       "    }\n",
       "\n",
       "    .dataframe thead th {\n",
       "        text-align: right;\n",
       "    }\n",
       "</style>\n",
       "<table border=\"1\" class=\"dataframe\">\n",
       "  <thead>\n",
       "    <tr style=\"text-align: right;\">\n",
       "      <th></th>\n",
       "      <th>region</th>\n",
       "      <th>departement</th>\n",
       "      <th>epci</th>\n",
       "      <th>code_p</th>\n",
       "      <th>code_i</th>\n",
       "      <th>nom_habit</th>\n",
       "      <th>population</th>\n",
       "      <th>pop_moy</th>\n",
       "      <th>pop_rang_nat2020</th>\n",
       "      <th>pop_rang_nat</th>\n",
       "      <th>...</th>\n",
       "      <th>ville_fleurie</th>\n",
       "      <th>ville_internet</th>\n",
       "      <th>superficie</th>\n",
       "      <th>superficie_moy</th>\n",
       "      <th>altitude_min</th>\n",
       "      <th>altitude_min_moy</th>\n",
       "      <th>altitude_max</th>\n",
       "      <th>altitude_max_moy</th>\n",
       "      <th>latitude</th>\n",
       "      <th>longitude</th>\n",
       "    </tr>\n",
       "  </thead>\n",
       "  <tbody>\n",
       "    <tr>\n",
       "      <th>0</th>\n",
       "      <td>Nouvelle-Aquitaine</td>\n",
       "      <td>Pyrénées-Atlantiques</td>\n",
       "      <td>Communauté de communes du Nord Est Béarn</td>\n",
       "      <td>64460</td>\n",
       "      <td>64001</td>\n",
       "      <td>Aastois, Aastoises</td>\n",
       "      <td>188 hab.</td>\n",
       "      <td>1 964 hab.</td>\n",
       "      <td>Population : rang national (2020)</td>\n",
       "      <td>n°26 663</td>\n",
       "      <td>...</td>\n",
       "      <td>Aucune fleur</td>\n",
       "      <td>Aucune arobase</td>\n",
       "      <td>4,8 km²</td>\n",
       "      <td>17,5 km²</td>\n",
       "      <td>367 mètre(s)</td>\n",
       "      <td>193 mètres</td>\n",
       "      <td>393 mètre(s)</td>\n",
       "      <td>395 mètres</td>\n",
       "      <td>43,2909</td>\n",
       "      <td>-0,081773</td>\n",
       "    </tr>\n",
       "    <tr>\n",
       "      <th>1</th>\n",
       "      <td>Grand Est</td>\n",
       "      <td>Meuse</td>\n",
       "      <td>Communauté de communes Haute Saulx et Perthois...</td>\n",
       "      <td>55130</td>\n",
       "      <td>55001</td>\n",
       "      <td>Abainvillois, Abainvilloises</td>\n",
       "      <td>285 hab.</td>\n",
       "      <td>1 964 hab.</td>\n",
       "      <td>Population : rang national (2020)</td>\n",
       "      <td>n°22 397</td>\n",
       "      <td>...</td>\n",
       "      <td>Aucune fleur</td>\n",
       "      <td>Aucune arobase</td>\n",
       "      <td>13,7 km²</td>\n",
       "      <td>17,5 km²</td>\n",
       "      <td>282 mètre(s)</td>\n",
       "      <td>193 mètres</td>\n",
       "      <td>388 mètre(s)</td>\n",
       "      <td>395 mètres</td>\n",
       "      <td>48,5327</td>\n",
       "      <td>5,51525</td>\n",
       "    </tr>\n",
       "    <tr>\n",
       "      <th>2</th>\n",
       "      <td>Hauts-de-France</td>\n",
       "      <td>Nord</td>\n",
       "      <td>Communauté d'agglomération de Cambrai</td>\n",
       "      <td>59268</td>\n",
       "      <td>59001</td>\n",
       "      <td>Abancourtois, Abancourtoises</td>\n",
       "      <td>468 hab.</td>\n",
       "      <td>1 964 hab.</td>\n",
       "      <td>Population : rang national (2020)</td>\n",
       "      <td>n°17 217</td>\n",
       "      <td>...</td>\n",
       "      <td>Aucune fleur</td>\n",
       "      <td>Aucune arobase</td>\n",
       "      <td>5,7 km²</td>\n",
       "      <td>17,5 km²</td>\n",
       "      <td>36 mètre(s)</td>\n",
       "      <td>193 mètres</td>\n",
       "      <td>70 mètre(s)</td>\n",
       "      <td>395 mètres</td>\n",
       "      <td>50,2369</td>\n",
       "      <td>3,20731</td>\n",
       "    </tr>\n",
       "    <tr>\n",
       "      <th>3</th>\n",
       "      <td>Hauts-de-France</td>\n",
       "      <td>Oise</td>\n",
       "      <td>Communauté de communes de la Picardie Verte</td>\n",
       "      <td>60220</td>\n",
       "      <td>60001</td>\n",
       "      <td>nc</td>\n",
       "      <td>606 hab.</td>\n",
       "      <td>1 964 hab.</td>\n",
       "      <td>Population : rang national (2020)</td>\n",
       "      <td>n°14 521</td>\n",
       "      <td>...</td>\n",
       "      <td>Aucune fleur</td>\n",
       "      <td>Aucune arobase</td>\n",
       "      <td>6,0 km²</td>\n",
       "      <td>17,5 km²</td>\n",
       "      <td>170 mètre(s)</td>\n",
       "      <td>193 mètres</td>\n",
       "      <td>222 mètre(s)</td>\n",
       "      <td>395 mètres</td>\n",
       "      <td>49,6931</td>\n",
       "      <td>1,76924</td>\n",
       "    </tr>\n",
       "    <tr>\n",
       "      <th>4</th>\n",
       "      <td>Grand Est</td>\n",
       "      <td>Meurthe-et-Moselle</td>\n",
       "      <td>Communauté de communes de Seille et Mauchère -...</td>\n",
       "      <td>54610</td>\n",
       "      <td>54001</td>\n",
       "      <td>Abaucourtois, Abaucourtoises</td>\n",
       "      <td>306 hab.</td>\n",
       "      <td>1 964 hab.</td>\n",
       "      <td>Population : rang national (2020)</td>\n",
       "      <td>n°21 651</td>\n",
       "      <td>...</td>\n",
       "      <td>Aucune fleur</td>\n",
       "      <td>Aucune arobase</td>\n",
       "      <td>7,8 km²</td>\n",
       "      <td>17,5 km²</td>\n",
       "      <td>182 mètre(s)</td>\n",
       "      <td>193 mètres</td>\n",
       "      <td>235 mètre(s)</td>\n",
       "      <td>395 mètres</td>\n",
       "      <td>48,8928</td>\n",
       "      <td>6,2656</td>\n",
       "    </tr>\n",
       "  </tbody>\n",
       "</table>\n",
       "<p>5 rows × 26 columns</p>\n",
       "</div>"
      ],
      "text/plain": [
       "               region           departement  \\\n",
       "0  Nouvelle-Aquitaine  Pyrénées-Atlantiques   \n",
       "1           Grand Est                 Meuse   \n",
       "2     Hauts-de-France                  Nord   \n",
       "3     Hauts-de-France                  Oise   \n",
       "4           Grand Est    Meurthe-et-Moselle   \n",
       "\n",
       "                                                epci code_p code_i  \\\n",
       "0           Communauté de communes du Nord Est Béarn  64460  64001   \n",
       "1  Communauté de communes Haute Saulx et Perthois...  55130  55001   \n",
       "2              Communauté d'agglomération de Cambrai  59268  59001   \n",
       "3        Communauté de communes de la Picardie Verte  60220  60001   \n",
       "4  Communauté de communes de Seille et Mauchère -...  54610  54001   \n",
       "\n",
       "                      nom_habit population     pop_moy  \\\n",
       "0            Aastois, Aastoises   188 hab.  1 964 hab.   \n",
       "1  Abainvillois, Abainvilloises   285 hab.  1 964 hab.   \n",
       "2  Abancourtois, Abancourtoises   468 hab.  1 964 hab.   \n",
       "3                            nc   606 hab.  1 964 hab.   \n",
       "4  Abaucourtois, Abaucourtoises   306 hab.  1 964 hab.   \n",
       "\n",
       "                    pop_rang_nat2020 pop_rang_nat  ... ville_fleurie  \\\n",
       "0  Population : rang national (2020)    n°26 663   ...  Aucune fleur   \n",
       "1  Population : rang national (2020)    n°22 397   ...  Aucune fleur   \n",
       "2  Population : rang national (2020)    n°17 217   ...  Aucune fleur   \n",
       "3  Population : rang national (2020)    n°14 521   ...  Aucune fleur   \n",
       "4  Population : rang national (2020)    n°21 651   ...  Aucune fleur   \n",
       "\n",
       "   ville_internet superficie superficie_moy  altitude_min altitude_min_moy  \\\n",
       "0  Aucune arobase    4,8 km²       17,5 km²  367 mètre(s)       193 mètres   \n",
       "1  Aucune arobase   13,7 km²       17,5 km²  282 mètre(s)       193 mètres   \n",
       "2  Aucune arobase    5,7 km²       17,5 km²   36 mètre(s)       193 mètres   \n",
       "3  Aucune arobase    6,0 km²       17,5 km²  170 mètre(s)       193 mètres   \n",
       "4  Aucune arobase    7,8 km²       17,5 km²  182 mètre(s)       193 mètres   \n",
       "\n",
       "   altitude_max altitude_max_moy latitude  longitude  \n",
       "0  393 mètre(s)       395 mètres  43,2909  -0,081773  \n",
       "1  388 mètre(s)       395 mètres  48,5327    5,51525  \n",
       "2   70 mètre(s)       395 mètres  50,2369    3,20731  \n",
       "3  222 mètre(s)       395 mètres  49,6931    1,76924  \n",
       "4  235 mètre(s)       395 mètres  48,8928     6,2656  \n",
       "\n",
       "[5 rows x 26 columns]"
      ]
     },
     "execution_count": 357,
     "metadata": {},
     "output_type": "execute_result"
    }
   ],
   "source": [
    "df.head()"
   ]
  },
  {
   "cell_type": "code",
   "execution_count": 361,
   "id": "4d0abd33",
   "metadata": {},
   "outputs": [],
   "source": [
    "df = df.drop([\"nom_habit\", \"departement\", \"pop_moy\", \"pop_rang_nat2020\", \"pop_rang_nat\", \"densite_pop_moy\", \"taux_chomage_moy\",\n",
    "        \"superficie_moy\", \"altitude_min_moy\", \"altitude_max_moy\"], axis = 1)"
   ]
  },
  {
   "cell_type": "code",
   "execution_count": 548,
   "id": "7c092a72",
   "metadata": {},
   "outputs": [
    {
     "data": {
      "text/html": [
       "<div>\n",
       "<style scoped>\n",
       "    .dataframe tbody tr th:only-of-type {\n",
       "        vertical-align: middle;\n",
       "    }\n",
       "\n",
       "    .dataframe tbody tr th {\n",
       "        vertical-align: top;\n",
       "    }\n",
       "\n",
       "    .dataframe thead th {\n",
       "        text-align: right;\n",
       "    }\n",
       "</style>\n",
       "<table border=\"1\" class=\"dataframe\">\n",
       "  <thead>\n",
       "    <tr style=\"text-align: right;\">\n",
       "      <th></th>\n",
       "      <th>region</th>\n",
       "      <th>code_p</th>\n",
       "      <th>code_i</th>\n",
       "      <th>population</th>\n",
       "      <th>densite_pop</th>\n",
       "      <th>taux_chomage</th>\n",
       "      <th>pavion_bleau</th>\n",
       "      <th>ville_d_art</th>\n",
       "      <th>ville_fleurie</th>\n",
       "      <th>ville_internet</th>\n",
       "      <th>superficie</th>\n",
       "      <th>altitude_min</th>\n",
       "      <th>altitude_max</th>\n",
       "      <th>latitude</th>\n",
       "      <th>longitude</th>\n",
       "    </tr>\n",
       "  </thead>\n",
       "  <tbody>\n",
       "    <tr>\n",
       "      <th>0</th>\n",
       "      <td>Nouvelle-Aquitaine</td>\n",
       "      <td>64460</td>\n",
       "      <td>64001</td>\n",
       "      <td>188.0</td>\n",
       "      <td>40.0</td>\n",
       "      <td>5.8</td>\n",
       "      <td>non</td>\n",
       "      <td>non</td>\n",
       "      <td>0.0</td>\n",
       "      <td>0.0</td>\n",
       "      <td>4.8</td>\n",
       "      <td>367.0</td>\n",
       "      <td>393.0</td>\n",
       "      <td>43.2909</td>\n",
       "      <td>-0.081773</td>\n",
       "    </tr>\n",
       "    <tr>\n",
       "      <th>1</th>\n",
       "      <td>Grand Est</td>\n",
       "      <td>55130</td>\n",
       "      <td>55001</td>\n",
       "      <td>285.0</td>\n",
       "      <td>21.0</td>\n",
       "      <td>10.1</td>\n",
       "      <td>non</td>\n",
       "      <td>non</td>\n",
       "      <td>0.0</td>\n",
       "      <td>0.0</td>\n",
       "      <td>13.7</td>\n",
       "      <td>282.0</td>\n",
       "      <td>388.0</td>\n",
       "      <td>48.5327</td>\n",
       "      <td>5.51525</td>\n",
       "    </tr>\n",
       "    <tr>\n",
       "      <th>2</th>\n",
       "      <td>Hauts-de-France</td>\n",
       "      <td>59268</td>\n",
       "      <td>59001</td>\n",
       "      <td>468.0</td>\n",
       "      <td>83.0</td>\n",
       "      <td>8.4</td>\n",
       "      <td>non</td>\n",
       "      <td>non</td>\n",
       "      <td>0.0</td>\n",
       "      <td>0.0</td>\n",
       "      <td>5.7</td>\n",
       "      <td>36.0</td>\n",
       "      <td>70.0</td>\n",
       "      <td>50.2369</td>\n",
       "      <td>3.20731</td>\n",
       "    </tr>\n",
       "    <tr>\n",
       "      <th>3</th>\n",
       "      <td>Hauts-de-France</td>\n",
       "      <td>60220</td>\n",
       "      <td>60001</td>\n",
       "      <td>606.0</td>\n",
       "      <td>101.0</td>\n",
       "      <td>20.3</td>\n",
       "      <td>non</td>\n",
       "      <td>non</td>\n",
       "      <td>0.0</td>\n",
       "      <td>0.0</td>\n",
       "      <td>6.0</td>\n",
       "      <td>170.0</td>\n",
       "      <td>222.0</td>\n",
       "      <td>49.6931</td>\n",
       "      <td>1.76924</td>\n",
       "    </tr>\n",
       "    <tr>\n",
       "      <th>4</th>\n",
       "      <td>Grand Est</td>\n",
       "      <td>54610</td>\n",
       "      <td>54001</td>\n",
       "      <td>306.0</td>\n",
       "      <td>39.0</td>\n",
       "      <td>8.1</td>\n",
       "      <td>non</td>\n",
       "      <td>non</td>\n",
       "      <td>0.0</td>\n",
       "      <td>0.0</td>\n",
       "      <td>7.8</td>\n",
       "      <td>182.0</td>\n",
       "      <td>235.0</td>\n",
       "      <td>48.8928</td>\n",
       "      <td>6.2656</td>\n",
       "    </tr>\n",
       "  </tbody>\n",
       "</table>\n",
       "</div>"
      ],
      "text/plain": [
       "               region code_p code_i  population  densite_pop  taux_chomage  \\\n",
       "0  Nouvelle-Aquitaine  64460  64001       188.0         40.0           5.8   \n",
       "1           Grand Est  55130  55001       285.0         21.0          10.1   \n",
       "2     Hauts-de-France  59268  59001       468.0         83.0           8.4   \n",
       "3     Hauts-de-France  60220  60001       606.0        101.0          20.3   \n",
       "4           Grand Est  54610  54001       306.0         39.0           8.1   \n",
       "\n",
       "  pavion_bleau ville_d_art ville_fleurie ville_internet  superficie  \\\n",
       "0          non         non           0.0            0.0         4.8   \n",
       "1          non         non           0.0            0.0        13.7   \n",
       "2          non         non           0.0            0.0         5.7   \n",
       "3          non         non           0.0            0.0         6.0   \n",
       "4          non         non           0.0            0.0         7.8   \n",
       "\n",
       "   altitude_min  altitude_max latitude  longitude  \n",
       "0         367.0         393.0  43.2909  -0.081773  \n",
       "1         282.0         388.0  48.5327    5.51525  \n",
       "2          36.0          70.0  50.2369    3.20731  \n",
       "3         170.0         222.0  49.6931    1.76924  \n",
       "4         182.0         235.0  48.8928     6.2656  "
      ]
     },
     "execution_count": 548,
     "metadata": {},
     "output_type": "execute_result"
    }
   ],
   "source": [
    "df.head()"
   ]
  },
  {
   "cell_type": "code",
   "execution_count": 378,
   "id": "d530bebb",
   "metadata": {},
   "outputs": [],
   "source": [
    "df[\"region\"] = df[\"region\"].astype(\"category\")"
   ]
  },
  {
   "cell_type": "code",
   "execution_count": 383,
   "id": "ec23aedc",
   "metadata": {},
   "outputs": [],
   "source": [
    "df.drop(\"epci\", axis = 1, inplace=True)"
   ]
  },
  {
   "cell_type": "code",
   "execution_count": 386,
   "id": "e7fdeb32",
   "metadata": {},
   "outputs": [],
   "source": [
    "df[\"code_p\"] = df[\"code_p\"].astype(\"category\")"
   ]
  },
  {
   "cell_type": "code",
   "execution_count": 391,
   "id": "6611933d",
   "metadata": {},
   "outputs": [],
   "source": [
    "df[\"code_i\"] = df[\"code_i\"].astype(\"category\")"
   ]
  },
  {
   "cell_type": "code",
   "execution_count": 396,
   "id": "b7e023b2",
   "metadata": {},
   "outputs": [],
   "source": [
    "df[\"population\"] = df[\"population\"].astype('string')"
   ]
  },
  {
   "cell_type": "code",
   "execution_count": 440,
   "id": "c2e24c34",
   "metadata": {},
   "outputs": [],
   "source": [
    "df[\"population\"] = df[\"population\"].map(lambda x: x[:-4])"
   ]
  },
  {
   "cell_type": "code",
   "execution_count": 447,
   "id": "591ec958",
   "metadata": {},
   "outputs": [],
   "source": [
    "df[\"population\"] = pd.to_numeric(df[\"population\"], errors = \"coerce\")"
   ]
  },
  {
   "cell_type": "code",
   "execution_count": 448,
   "id": "bd613d5c",
   "metadata": {},
   "outputs": [],
   "source": [
    "df[\"densite_pop\"] = df[\"densite_pop\"].astype('string')"
   ]
  },
  {
   "cell_type": "code",
   "execution_count": 454,
   "id": "3facdd2d",
   "metadata": {},
   "outputs": [],
   "source": [
    "df[\"densite_pop\"] = df[\"densite_pop\"].map(lambda x: x[:-7])"
   ]
  },
  {
   "cell_type": "code",
   "execution_count": 455,
   "id": "0dc0ce85",
   "metadata": {},
   "outputs": [],
   "source": [
    "df[\"densite_pop\"] = pd.to_numeric(df[\"densite_pop\"], errors = \"coerce\")"
   ]
  },
  {
   "cell_type": "code",
   "execution_count": 518,
   "id": "66990d87",
   "metadata": {},
   "outputs": [],
   "source": [
    "df[\"taux_chomage\"] = df[\"taux_chomage\"].astype('string')"
   ]
  },
  {
   "cell_type": "code",
   "execution_count": 526,
   "id": "a3db86fb",
   "metadata": {},
   "outputs": [],
   "source": [
    "df[\"taux_chomage\"] = df[\"taux_chomage\"].str.replace(\" %\", \"\").str.replace(\",\", \".\")"
   ]
  },
  {
   "cell_type": "code",
   "execution_count": 527,
   "id": "b8ea1922",
   "metadata": {},
   "outputs": [],
   "source": [
    "df[\"taux_chomage\"] = pd.to_numeric(df[\"taux_chomage\"], errors = \"coerce\")"
   ]
  },
  {
   "cell_type": "code",
   "execution_count": 459,
   "id": "78ae6ef6",
   "metadata": {},
   "outputs": [],
   "source": [
    "df[\"pavion_bleau\"] = df[\"pavion_bleau\"].astype(\"category\")"
   ]
  },
  {
   "cell_type": "code",
   "execution_count": 463,
   "id": "c7502682",
   "metadata": {},
   "outputs": [],
   "source": [
    "df[\"ville_d_art\"] = df[\"ville_d_art\"].astype(\"category\")"
   ]
  },
  {
   "cell_type": "code",
   "execution_count": 465,
   "id": "0116a408",
   "metadata": {},
   "outputs": [],
   "source": [
    "df[\"ville_fleurie\"] = df[\"ville_fleurie\"].astype('string')"
   ]
  },
  {
   "cell_type": "code",
   "execution_count": 469,
   "id": "c04d60b8",
   "metadata": {},
   "outputs": [],
   "source": [
    "df[\"ville_fleurie\"] = df[\"ville_fleurie\"].map(lambda x: x[:-8])"
   ]
  },
  {
   "cell_type": "code",
   "execution_count": 471,
   "id": "00b04151",
   "metadata": {},
   "outputs": [],
   "source": [
    "df[\"ville_fleurie\"] = pd.to_numeric(df[\"ville_fleurie\"], errors = \"coerce\")"
   ]
  },
  {
   "cell_type": "code",
   "execution_count": 473,
   "id": "dd582b6b",
   "metadata": {},
   "outputs": [],
   "source": [
    "df[\"ville_fleurie\"] = df[\"ville_fleurie\"].fillna(0)"
   ]
  },
  {
   "cell_type": "code",
   "execution_count": 486,
   "id": "d0006ce9",
   "metadata": {},
   "outputs": [],
   "source": [
    "df[\"ville_fleurie\"] = df[\"ville_fleurie\"].astype(\"category\")"
   ]
  },
  {
   "cell_type": "code",
   "execution_count": 478,
   "id": "0f986b21",
   "metadata": {},
   "outputs": [],
   "source": [
    "df[\"ville_internet\"] = df[\"ville_internet\"].map(lambda x: x[0])"
   ]
  },
  {
   "cell_type": "code",
   "execution_count": 479,
   "id": "1764678a",
   "metadata": {},
   "outputs": [],
   "source": [
    "df[\"ville_internet\"] = pd.to_numeric(df[\"ville_internet\"], errors = \"coerce\")"
   ]
  },
  {
   "cell_type": "code",
   "execution_count": 481,
   "id": "6021149c",
   "metadata": {},
   "outputs": [],
   "source": [
    "df[\"ville_internet\"] = df[\"ville_internet\"].fillna(0)"
   ]
  },
  {
   "cell_type": "code",
   "execution_count": 488,
   "id": "b9c71f79",
   "metadata": {},
   "outputs": [],
   "source": [
    "df[\"ville_internet\"]  = df[\"ville_internet\"].astype(\"category\")"
   ]
  },
  {
   "cell_type": "code",
   "execution_count": 493,
   "id": "3c27d490",
   "metadata": {},
   "outputs": [],
   "source": [
    "df[\"superficie\"] = df[\"superficie\"].map(lambda x : x[:-3])"
   ]
  },
  {
   "cell_type": "code",
   "execution_count": 495,
   "id": "38d3ad40",
   "metadata": {},
   "outputs": [],
   "source": [
    "df[\"superficie\"] = df[\"superficie\"].str.replace(',', '.')"
   ]
  },
  {
   "cell_type": "code",
   "execution_count": 496,
   "id": "3e9d5ff5",
   "metadata": {},
   "outputs": [],
   "source": [
    "df[\"superficie\"]  = pd.to_numeric(df[\"superficie\"] , errors = \"coerce\")"
   ]
  },
  {
   "cell_type": "code",
   "execution_count": 505,
   "id": "48d9e550",
   "metadata": {},
   "outputs": [],
   "source": [
    "df[\"altitude_min\"] = df[\"altitude_min\"].map(lambda x: x[:-8])\n",
    "df[\"altitude_min\"]  = pd.to_numeric(df[\"altitude_min\"] , errors = \"coerce\")"
   ]
  },
  {
   "cell_type": "code",
   "execution_count": 508,
   "id": "9399f7c5",
   "metadata": {},
   "outputs": [],
   "source": [
    "df[\"altitude_max\"] = df[\"altitude_max\"].map(lambda x: x[:-8])\n",
    "df[\"altitude_max\"]  = pd.to_numeric(df[\"altitude_max\"] , errors = \"coerce\")"
   ]
  },
  {
   "cell_type": "code",
   "execution_count": 511,
   "id": "bf19328c",
   "metadata": {},
   "outputs": [],
   "source": [
    "df[\"latitude\"] = df[\"latitude\"].str.replace(\",\", \".\")"
   ]
  },
  {
   "cell_type": "code",
   "execution_count": 513,
   "id": "e93dea4d",
   "metadata": {},
   "outputs": [],
   "source": [
    "df[\"longitude\"] = df[\"longitude\"].str.replace(\",\", \".\")"
   ]
  },
  {
   "cell_type": "code",
   "execution_count": 531,
   "id": "bf77d7ce",
   "metadata": {},
   "outputs": [],
   "source": [
    "df[\"population\"] = df[\"population\"].fillna(df[\"population\"].median())"
   ]
  },
  {
   "cell_type": "code",
   "execution_count": 536,
   "id": "85287799",
   "metadata": {},
   "outputs": [],
   "source": [
    "df[\"densite_pop\"] = df[\"densite_pop\"].fillna(df[\"densite_pop\"].median())"
   ]
  },
  {
   "cell_type": "code",
   "execution_count": 538,
   "id": "7a1aa227",
   "metadata": {},
   "outputs": [],
   "source": [
    "df[\"taux_chomage\"] = df[\"taux_chomage\"].fillna(df[\"taux_chomage\"].median())"
   ]
  },
  {
   "cell_type": "code",
   "execution_count": 540,
   "id": "cb49753a",
   "metadata": {},
   "outputs": [],
   "source": [
    "df[\"superficie\"] = df[\"superficie\"].fillna(df[\"superficie\"].median())"
   ]
  },
  {
   "cell_type": "code",
   "execution_count": 542,
   "id": "7823e9b9",
   "metadata": {},
   "outputs": [],
   "source": [
    "df[\"altitude_min\"] = df[\"altitude_min\"].fillna(df[\"altitude_min\"].median())"
   ]
  },
  {
   "cell_type": "code",
   "execution_count": 543,
   "id": "10f523e5",
   "metadata": {},
   "outputs": [],
   "source": [
    "df[\"altitude_max\"] = df[\"altitude_max\"].fillna(df[\"altitude_max\"].median())"
   ]
  },
  {
   "cell_type": "code",
   "execution_count": 547,
   "id": "388e2481",
   "metadata": {},
   "outputs": [
    {
     "name": "stdout",
     "output_type": "stream",
     "text": [
      "<class 'pandas.core.frame.DataFrame'>\n",
      "Index: 34955 entries, 0 to 34954\n",
      "Data columns (total 15 columns):\n",
      " #   Column          Non-Null Count  Dtype   \n",
      "---  ------          --------------  -----   \n",
      " 0   region          34955 non-null  category\n",
      " 1   code_p          34955 non-null  category\n",
      " 2   code_i          34955 non-null  category\n",
      " 3   population      34955 non-null  float64 \n",
      " 4   densite_pop     34955 non-null  float64 \n",
      " 5   taux_chomage    34955 non-null  Float64 \n",
      " 6   pavion_bleau    34955 non-null  category\n",
      " 7   ville_d_art     34955 non-null  category\n",
      " 8   ville_fleurie   34955 non-null  category\n",
      " 9   ville_internet  34955 non-null  category\n",
      " 10  superficie      34955 non-null  float64 \n",
      " 11  altitude_min    34955 non-null  float64 \n",
      " 12  altitude_max    34955 non-null  float64 \n",
      " 13  latitude        34955 non-null  object  \n",
      " 14  longitude       34955 non-null  object  \n",
      "dtypes: Float64(1), category(7), float64(5), object(2)\n",
      "memory usage: 5.3+ MB\n"
     ]
    }
   ],
   "source": [
    "df.info()"
   ]
  },
  {
   "cell_type": "code",
   "execution_count": 550,
   "id": "a885af94",
   "metadata": {},
   "outputs": [
    {
     "data": {
      "text/plain": [
       "region            0\n",
       "code_p            0\n",
       "code_i            0\n",
       "population        0\n",
       "densite_pop       0\n",
       "taux_chomage      0\n",
       "pavion_bleau      0\n",
       "ville_d_art       0\n",
       "ville_fleurie     0\n",
       "ville_internet    0\n",
       "superficie        0\n",
       "altitude_min      0\n",
       "altitude_max      0\n",
       "latitude          0\n",
       "longitude         0\n",
       "dtype: int64"
      ]
     },
     "execution_count": 550,
     "metadata": {},
     "output_type": "execute_result"
    }
   ],
   "source": [
    "df.isna().sum()"
   ]
  },
  {
   "cell_type": "code",
   "execution_count": 551,
   "id": "f0c636be",
   "metadata": {},
   "outputs": [
    {
     "name": "stdout",
     "output_type": "stream",
     "text": [
      "Collecting dash\n",
      "  Downloading dash-2.10.2-py3-none-any.whl (10.3 MB)\n",
      "     ---------------------------------------- 0.0/10.3 MB ? eta -:--:--\n",
      "     -- ------------------------------------- 0.6/10.3 MB 18.8 MB/s eta 0:00:01\n",
      "     ------ --------------------------------- 1.6/10.3 MB 20.2 MB/s eta 0:00:01\n",
      "     ---------- ----------------------------- 2.7/10.3 MB 21.9 MB/s eta 0:00:01\n",
      "     ---------------- ----------------------- 4.2/10.3 MB 24.3 MB/s eta 0:00:01\n",
      "     ---------------------- ----------------- 5.8/10.3 MB 26.4 MB/s eta 0:00:01\n",
      "     ---------------------------- ----------- 7.4/10.3 MB 28.0 MB/s eta 0:00:01\n",
      "     ----------------------------------- ---- 9.2/10.3 MB 29.5 MB/s eta 0:00:01\n",
      "     --------------------------------------  10.3/10.3 MB 31.2 MB/s eta 0:00:01\n",
      "     --------------------------------------- 10.3/10.3 MB 26.2 MB/s eta 0:00:00\n",
      "Collecting dash-html-components==2.0.0\n",
      "  Downloading dash_html_components-2.0.0-py3-none-any.whl (4.1 kB)\n",
      "Collecting plotly>=5.0.0\n",
      "  Downloading plotly-5.14.1-py2.py3-none-any.whl (15.3 MB)\n",
      "     ---------------------------------------- 0.0/15.3 MB ? eta -:--:--\n",
      "     ------ --------------------------------- 2.3/15.3 MB 49.0 MB/s eta 0:00:01\n",
      "     ----------- ---------------------------- 4.5/15.3 MB 48.1 MB/s eta 0:00:01\n",
      "     ----------------- ---------------------- 6.9/15.3 MB 48.5 MB/s eta 0:00:01\n",
      "     ------------------------ --------------- 9.3/15.3 MB 49.2 MB/s eta 0:00:01\n",
      "     ----------------------------- --------- 11.5/15.3 MB 46.9 MB/s eta 0:00:01\n",
      "     --------------------------------- ----- 13.3/15.3 MB 50.4 MB/s eta 0:00:01\n",
      "     --------------------------------------  15.3/15.3 MB 46.7 MB/s eta 0:00:01\n",
      "     --------------------------------------- 15.3/15.3 MB 36.4 MB/s eta 0:00:00\n",
      "Collecting Flask<2.3.0,>=1.0.4\n",
      "  Downloading Flask-2.2.5-py3-none-any.whl (101 kB)\n",
      "     ---------------------------------------- 0.0/101.8 kB ? eta -:--:--\n",
      "     ---------------------------------------- 101.8/101.8 kB ? eta 0:00:00\n",
      "Collecting dash-table==5.0.0\n",
      "  Downloading dash_table-5.0.0-py3-none-any.whl (3.9 kB)\n",
      "Collecting Werkzeug<2.3.0\n",
      "  Downloading Werkzeug-2.2.3-py3-none-any.whl (233 kB)\n",
      "     ---------------------------------------- 0.0/233.6 kB ? eta -:--:--\n",
      "     ---------------------------------------- 233.6/233.6 kB ? eta 0:00:00\n",
      "Collecting dash-core-components==2.0.0\n",
      "  Downloading dash_core_components-2.0.0-py3-none-any.whl (3.8 kB)\n",
      "Requirement already satisfied: Jinja2>=3.0 in c:\\programdata\\anaconda3\\lib\\site-packages (from Flask<2.3.0,>=1.0.4->dash) (3.1.2)\n",
      "Collecting itsdangerous>=2.0\n",
      "  Using cached itsdangerous-2.1.2-py3-none-any.whl (15 kB)\n",
      "Requirement already satisfied: click>=8.0 in c:\\programdata\\anaconda3\\lib\\site-packages (from Flask<2.3.0,>=1.0.4->dash) (8.0.4)\n",
      "Collecting tenacity>=6.2.0\n",
      "  Downloading tenacity-8.2.2-py3-none-any.whl (24 kB)\n",
      "Requirement already satisfied: packaging in c:\\programdata\\anaconda3\\lib\\site-packages (from plotly>=5.0.0->dash) (23.0)\n",
      "Requirement already satisfied: MarkupSafe>=2.1.1 in c:\\programdata\\anaconda3\\lib\\site-packages (from Werkzeug<2.3.0->dash) (2.1.1)\n",
      "Requirement already satisfied: colorama in c:\\programdata\\anaconda3\\lib\\site-packages (from click>=8.0->Flask<2.3.0,>=1.0.4->dash) (0.4.6)\n",
      "Installing collected packages: dash-table, dash-html-components, dash-core-components, Werkzeug, tenacity, itsdangerous, plotly, Flask, dash\n",
      "Successfully installed Flask-2.2.5 Werkzeug-2.2.3 dash-2.10.2 dash-core-components-2.0.0 dash-html-components-2.0.0 dash-table-5.0.0 itsdangerous-2.1.2 plotly-5.14.1 tenacity-8.2.2\n"
     ]
    }
   ],
   "source": [
    "!pip install dash"
   ]
  },
  {
   "cell_type": "code",
   "execution_count": null,
   "id": "f5729dc0",
   "metadata": {},
   "outputs": [],
   "source": []
  }
 ],
 "metadata": {
  "kernelspec": {
   "display_name": "Python 3 (ipykernel)",
   "language": "python",
   "name": "python3"
  },
  "language_info": {
   "codemirror_mode": {
    "name": "ipython",
    "version": 3
   },
   "file_extension": ".py",
   "mimetype": "text/x-python",
   "name": "python",
   "nbconvert_exporter": "python",
   "pygments_lexer": "ipython3",
   "version": "3.10.11"
  }
 },
 "nbformat": 4,
 "nbformat_minor": 5
}
